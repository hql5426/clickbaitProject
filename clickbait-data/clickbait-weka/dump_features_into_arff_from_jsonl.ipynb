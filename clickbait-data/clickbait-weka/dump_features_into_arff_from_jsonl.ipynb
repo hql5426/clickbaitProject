{
 "cells": [
  {
   "cell_type": "code",
   "execution_count": 1,
   "metadata": {
    "collapsed": true
   },
   "outputs": [
    {
     "ename": "ModuleNotFoundError",
     "evalue": "No module named 'arff'",
     "output_type": "error",
     "traceback": [
      "\u001b[1;31m---------------------------------------------------------------------------\u001b[0m",
      "\u001b[1;31mModuleNotFoundError\u001b[0m                       Traceback (most recent call last)",
      "\u001b[1;32m~\\AppData\\Local\\Temp/ipykernel_14060/874876407.py\u001b[0m in \u001b[0;36m<module>\u001b[1;34m\u001b[0m\n\u001b[0;32m      1\u001b[0m \u001b[1;32mimport\u001b[0m \u001b[0mjson\u001b[0m \u001b[1;31m# build-in library\u001b[0m\u001b[1;33m\u001b[0m\u001b[1;33m\u001b[0m\u001b[0m\n\u001b[1;32m----> 2\u001b[1;33m \u001b[1;32mimport\u001b[0m \u001b[0marff\u001b[0m \u001b[1;31m# https://pypi.python.org/pypi/liac-arff\u001b[0m\u001b[1;33m\u001b[0m\u001b[1;33m\u001b[0m\u001b[0m\n\u001b[0m",
      "\u001b[1;31mModuleNotFoundError\u001b[0m: No module named 'arff'"
     ]
    }
   ],
   "source": [
    "import json # build-in library\n",
    "import arff # https://pypi.python.org/pypi/liac-arff"
   ]
  },
  {
   "cell_type": "code",
   "execution_count": null,
   "metadata": {
    "collapsed": true
   },
   "outputs": [],
   "source": [
    "features = [(\"word count\", 'NUMERIC'),\n",
    "            (\"average word length\", 'NUMERIC'),\n",
    "            (\"length of the longest word\", 'NUMERIC'),\n",
    "            (\"whether start with number\", ['True', 'False']),\n",
    "            (\"whether start with who/what/why/where/when/how\", ['True', 'False']),\n",
    "            (\"label\", ['0', '1'])]"
   ]
  },
  {
   "cell_type": "code",
   "execution_count": null,
   "metadata": {
    "collapsed": true
   },
   "outputs": [],
   "source": [
    "def extract_features(text):\n",
    "    doc = text.strip().split(' ')\n",
    "    f1 = 0\n",
    "    f2 = 0\n",
    "    f3 = 0\n",
    "    f4 = False\n",
    "    f5 = False\n",
    "    for token in doc:\n",
    "        word = token.lower()\n",
    "        if f1 == 0:\n",
    "            if word[0].isdigit():\n",
    "                f4 = True\n",
    "            if word in ['who', 'what', 'why', 'where', 'when', 'how']:\n",
    "                f5 = True\n",
    "        f1 += 1\n",
    "        length = len(word)\n",
    "        f2 += length\n",
    "        f3 = max(f3, length)\n",
    "    if f1 == 0:\n",
    "        return False\n",
    "    return (f1, f2 * 1.0 / f1, f3, f4, f5)"
   ]
  },
  {
   "cell_type": "code",
   "execution_count": null,
   "metadata": {},
   "outputs": [
    {
     "name": "stdout",
     "output_type": "stream",
     "text": [
      "17535\n"
     ]
    }
   ],
   "source": [
    "id_features = {}\n",
    "with open('instances_train.jsonl', 'r') as f:\n",
    "    for line in f:\n",
    "        dic = json.loads(line)\n",
    "        if len(dic['postText'][0]) > 0:\n",
    "            feat = extract_features(dic['postText'][0])\n",
    "            if feat != False:\n",
    "                id_features.setdefault(dic['id'], feat)\n",
    "print(len(id_features))"
   ]
  },
  {
   "cell_type": "code",
   "execution_count": null,
   "metadata": {},
   "outputs": [
    {
     "name": "stdout",
     "output_type": "stream",
     "text": [
      "17535\n"
     ]
    }
   ],
   "source": [
    "id_labels = {}\n",
    "with open('truth_train.jsonl', 'r') as f:\n",
    "    for line in f:\n",
    "        dic = json.loads(line)\n",
    "        label = 1\n",
    "        if dic['truthClass'][0] == 'n':\n",
    "            label = 0\n",
    "        if dic['id'] in id_features:\n",
    "            id_labels.setdefault(dic['id'], label)\n",
    "print(len(id_labels))"
   ]
  },
  {
   "cell_type": "code",
   "execution_count": null,
   "metadata": {},
   "outputs": [],
   "source": [
    "###### dump data into arff file\n",
    "\n",
    "data = {}\n",
    "data.setdefault('attributes', features)\n",
    "data.setdefault('description', '')\n",
    "data.setdefault('relation', 'clickbait_sample')\n",
    "data.setdefault('data', [])\n",
    "for i in id_labels:\n",
    "    tmp = [_ for _ in id_features[i]]\n",
    "    tmp.append(str(id_labels[i]))\n",
    "    data['data'].append(tmp)\n",
    "\n",
    "with open('sample_train.arff', 'w') as f:\n",
    "    f.write(arff.dumps(data))"
   ]
  },
  {
   "cell_type": "code",
   "execution_count": null,
   "metadata": {
    "collapsed": true
   },
   "outputs": [],
   "source": []
  }
 ],
 "metadata": {
  "interpreter": {
   "hash": "18fa2d3431223868c5b63e31401226d7ddd7a80dd01a015a1e18703968dad082"
  },
  "kernelspec": {
   "display_name": "Python 3.9.7 64-bit",
   "name": "python3"
  },
  "language_info": {
   "codemirror_mode": {
    "name": "ipython",
    "version": 3
   },
   "file_extension": ".py",
   "mimetype": "text/x-python",
   "name": "python",
   "nbconvert_exporter": "python",
   "pygments_lexer": "ipython3",
   "version": "3.9.7"
  }
 },
 "nbformat": 4,
 "nbformat_minor": 2
}
